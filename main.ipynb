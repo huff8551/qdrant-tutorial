{
 "cells": [
  {
   "cell_type": "markdown",
   "metadata": {},
   "source": [
    "## Qdrant Vector Database Tutorial"
   ]
  },
  {
   "cell_type": "code",
   "execution_count": 5,
   "metadata": {},
   "outputs": [
    {
     "name": "stdout",
     "output_type": "stream",
     "text": [
      "Hello World\n"
     ]
    }
   ],
   "source": [
    "print(\"Hello World\")"
   ]
  },
  {
   "cell_type": "code",
   "execution_count": 6,
   "metadata": {},
   "outputs": [],
   "source": [
    "# imports\n",
    "\n",
    "from qdrant_client import QdrantClient\n",
    "from qdrant_client.http import models\n",
    "import numpy as np\n",
    "from faker import Faker"
   ]
  },
  {
   "cell_type": "code",
   "execution_count": 10,
   "metadata": {},
   "outputs": [
    {
     "data": {
      "text/plain": [
       "<qdrant_client.qdrant_client.QdrantClient at 0x2376b26a0c0>"
      ]
     },
     "execution_count": 10,
     "metadata": {},
     "output_type": "execute_result"
    }
   ],
   "source": [
    "# initialize the client\n",
    "\n",
    "client = QdrantClient(host=\"localhost\", port=6333)\n",
    "client"
   ]
  },
  {
   "cell_type": "code",
   "execution_count": 14,
   "metadata": {},
   "outputs": [
    {
     "data": {
      "text/plain": [
       "True"
      ]
     },
     "execution_count": 14,
     "metadata": {},
     "output_type": "execute_result"
    }
   ],
   "source": [
    "# create a collection\n",
    "\n",
    "my_collection = \"first_collection\"\n",
    "client.create_collection(\n",
    "    collection_name=my_collection,\n",
    "    vectors_config=models.VectorParams(size=100, distance=models.Distance.COSINE)\n",
    ")"
   ]
  },
  {
   "cell_type": "code",
   "execution_count": 18,
   "metadata": {},
   "outputs": [],
   "source": [
    "# generate 1000 vector embeddings of dimension=100 with random values\n",
    "\n",
    "data = np.random.uniform(low=-1.0, high=1.0, size=(1000, 100))\n",
    "index = list(range(1000))"
   ]
  },
  {
   "cell_type": "code",
   "execution_count": 19,
   "metadata": {},
   "outputs": [
    {
     "data": {
      "text/plain": [
       "array([[ 0.46964739,  0.14778055, -0.79835743,  0.68293224,  0.64472593],\n",
       "       [-0.98620477,  0.89016887, -0.5321581 ,  0.62428151,  0.39341356]])"
      ]
     },
     "execution_count": 19,
     "metadata": {},
     "output_type": "execute_result"
    }
   ],
   "source": [
    "data[:2, :5]"
   ]
  },
  {
   "cell_type": "code",
   "execution_count": 20,
   "metadata": {},
   "outputs": [
    {
     "data": {
      "text/plain": [
       "[995, 996, 997, 998, 999]"
      ]
     },
     "execution_count": 20,
     "metadata": {},
     "output_type": "execute_result"
    }
   ],
   "source": [
    "index[-5:]"
   ]
  },
  {
   "cell_type": "code",
   "execution_count": 21,
   "metadata": {},
   "outputs": [
    {
     "data": {
      "text/plain": [
       "UpdateResult(operation_id=0, status=<UpdateStatus.COMPLETED: 'completed'>)"
      ]
     },
     "execution_count": 21,
     "metadata": {},
     "output_type": "execute_result"
    }
   ],
   "source": [
    "# upsert the vector embeddings into the collection\n",
    "\n",
    "client.upsert(\n",
    "    collection_name=my_collection,\n",
    "    points=models.Batch(\n",
    "        ids=index,\n",
    "        vectors=data.tolist()\n",
    "    )\n",
    ")"
   ]
  },
  {
   "cell_type": "code",
   "execution_count": 22,
   "metadata": {},
   "outputs": [
    {
     "data": {
      "text/plain": [
       "[Record(id=48, payload={}, vector=None),\n",
       " Record(id=8, payload={}, vector=None),\n",
       " Record(id=255, payload={}, vector=None)]"
      ]
     },
     "execution_count": 22,
     "metadata": {},
     "output_type": "execute_result"
    }
   ],
   "source": [
    "# retrieve vectors from collection\n",
    "\n",
    "client.retrieve(\n",
    "    collection_name=my_collection,\n",
    "    ids=[8,48,255],\n",
    "    # with_vectors=True\n",
    ")"
   ]
  },
  {
   "cell_type": "code",
   "execution_count": 25,
   "metadata": {},
   "outputs": [
    {
     "data": {
      "text/plain": [
       "('Cynthia Powell', '58510 Amber Estates\\nHullburgh, CO 21967')"
      ]
     },
     "execution_count": 25,
     "metadata": {},
     "output_type": "execute_result"
    }
   ],
   "source": [
    "# generate data with Faker\n",
    "\n",
    "fake_something = Faker()\n",
    "fake_something.name(), fake_something.address()"
   ]
  },
  {
   "cell_type": "code",
   "execution_count": 29,
   "metadata": {},
   "outputs": [
    {
     "data": {
      "text/plain": [
       "[{'artist': 'Leslie Gutierrez',\n",
       "  'song': 'address not enough',\n",
       "  'url': 'http://www.rocha.com/',\n",
       "  'year': '2011',\n",
       "  'country': 'India'},\n",
       " {'artist': 'James Young',\n",
       "  'song': 'tree have defense',\n",
       "  'url': 'https://willis-avila.net/',\n",
       "  'year': '2019',\n",
       "  'country': 'Saint Martin'},\n",
       " {'artist': 'Alan Woods',\n",
       "  'song': 'ability contain line',\n",
       "  'url': 'https://www.sheppard.biz/',\n",
       "  'year': '1983',\n",
       "  'country': 'South Georgia and the South Sandwich Islands'}]"
      ]
     },
     "execution_count": 29,
     "metadata": {},
     "output_type": "execute_result"
    }
   ],
   "source": [
    "payload = []\n",
    "\n",
    "for i in range(1000):\n",
    "    payload.append(\n",
    "        {\n",
    "            \"artist\":   fake_something.name(),\n",
    "            \"song\":     \" \".join(fake_something.words()),\n",
    "            \"url\":      fake_something.url(),\n",
    "            \"year\":     fake_something.year(),\n",
    "            \"country\":  fake_something.country()\n",
    "        }\n",
    "    )\n",
    "\n",
    "payload[:3]"
   ]
  },
  {
   "cell_type": "code",
   "execution_count": 30,
   "metadata": {},
   "outputs": [
    {
     "data": {
      "text/plain": [
       "UpdateResult(operation_id=1, status=<UpdateStatus.COMPLETED: 'completed'>)"
      ]
     },
     "execution_count": 30,
     "metadata": {},
     "output_type": "execute_result"
    }
   ],
   "source": [
    "# upsert the vector embeddings along with payload data\n",
    "\n",
    "client.upsert(\n",
    "    collection_name=my_collection,\n",
    "    points=models.Batch(\n",
    "        ids=index,\n",
    "        vectors=data.tolist(),\n",
    "        payloads=payload\n",
    "    )\n",
    ")"
   ]
  },
  {
   "cell_type": "code",
   "execution_count": 31,
   "metadata": {},
   "outputs": [
    {
     "data": {
      "text/plain": [
       "[0.1644496867197225,\n",
       " 0.06440439039095014,\n",
       " 0.8857853421641058,\n",
       " 0.03348565916948254,\n",
       " 0.9811916980176381]"
      ]
     },
     "execution_count": 31,
     "metadata": {},
     "output_type": "execute_result"
    }
   ],
   "source": [
    "# generate a vector embedding for semantic search\n",
    "\n",
    "vector = np.random.uniform(low=-1.0, high=1.0, size=100).tolist()\n",
    "vector[:5]"
   ]
  },
  {
   "cell_type": "code",
   "execution_count": 32,
   "metadata": {},
   "outputs": [
    {
     "data": {
      "text/plain": [
       "[ScoredPoint(id=186, version=1, score=0.36006433, payload={'artist': 'Debra Smith', 'country': 'Yemen', 'song': 'share action fly', 'url': 'http://www.mercer.com/', 'year': '1972'}, vector=None),\n",
       " ScoredPoint(id=112, version=1, score=0.3000521, payload={'artist': 'Brandon Bentley', 'country': 'Kyrgyz Republic', 'song': 'contain left season', 'url': 'https://burton-davis.org/', 'year': '1976'}, vector=None),\n",
       " ScoredPoint(id=242, version=1, score=0.2944929, payload={'artist': 'Kelly Gutierrez DDS', 'country': 'Guernsey', 'song': 'food nature condition', 'url': 'https://www.kaiser.com/', 'year': '2014'}, vector=None),\n",
       " ScoredPoint(id=378, version=1, score=0.28817847, payload={'artist': 'Heidi Jacobson', 'country': 'French Guiana', 'song': 'above choice film', 'url': 'https://www.harris-hughes.com/', 'year': '2015'}, vector=None),\n",
       " ScoredPoint(id=587, version=1, score=0.28486174, payload={'artist': 'Alexander Ortiz', 'country': 'Anguilla', 'song': 'time environmental someone', 'url': 'https://www.norris.biz/', 'year': '2008'}, vector=None)]"
      ]
     },
     "execution_count": 32,
     "metadata": {},
     "output_type": "execute_result"
    }
   ],
   "source": [
    "# search\n",
    "\n",
    "client.search(\n",
    "    collection_name = my_collection,\n",
    "    query_vector = vector,\n",
    "    limit = 5\n",
    ")"
   ]
  },
  {
   "cell_type": "code",
   "execution_count": 33,
   "metadata": {},
   "outputs": [
    {
     "data": {
      "text/plain": [
       "Filter(should=None, must=[FieldCondition(key='country', match=MatchValue(value='India'), range=None, geo_bounding_box=None, geo_radius=None, geo_polygon=None, values_count=None)], must_not=None)"
      ]
     },
     "execution_count": 33,
     "metadata": {},
     "output_type": "execute_result"
    }
   ],
   "source": [
    "# create a Filter\n",
    "\n",
    "indian_filter = models.Filter(\n",
    "    must=[\n",
    "        models.FieldCondition(\n",
    "            key=\"country\",\n",
    "            match=models.MatchValue(value=\"India\")\n",
    "        )\n",
    "    ]\n",
    ")\n",
    "\n",
    "indian_filter"
   ]
  },
  {
   "cell_type": "code",
   "execution_count": 37,
   "metadata": {},
   "outputs": [
    {
     "data": {
      "text/plain": [
       "[ScoredPoint(id=0, version=1, score=0.15805922, payload={'artist': 'Leslie Gutierrez', 'country': 'India', 'song': 'address not enough', 'url': 'http://www.rocha.com/', 'year': '2011'}, vector=None),\n",
       " ScoredPoint(id=768, version=1, score=0.095274895, payload={'artist': 'Heather Moody', 'country': 'India', 'song': 'us soon modern', 'url': 'http://collins-beard.net/', 'year': '1974'}, vector=None),\n",
       " ScoredPoint(id=304, version=1, score=0.016565647, payload={'artist': 'Michael Terrell', 'country': 'India', 'song': 'song ahead during', 'url': 'https://www.griffith.com/', 'year': '2014'}, vector=None),\n",
       " ScoredPoint(id=275, version=1, score=-0.1572444, payload={'artist': 'Kimberly White', 'country': 'India', 'song': 'worker product century', 'url': 'https://www.baker.com/', 'year': '1987'}, vector=None)]"
      ]
     },
     "execution_count": 37,
     "metadata": {},
     "output_type": "execute_result"
    }
   ],
   "source": [
    "# search with Filter\n",
    "\n",
    "client.search(\n",
    "    collection_name = my_collection,\n",
    "    query_vector = vector,\n",
    "    query_filter = indian_filter,\n",
    "    limit = 5\n",
    ")"
   ]
  },
  {
   "cell_type": "code",
   "execution_count": 49,
   "metadata": {},
   "outputs": [
    {
     "data": {
      "text/plain": [
       "[ScoredPoint(id=106, version=1, score=0.31802514, payload={'artist': 'Tonya Howard', 'country': 'Kenya', 'song': 'race air mean', 'url': 'https://green.com/', 'year': '2006'}, vector=None),\n",
       " ScoredPoint(id=286, version=1, score=0.17539302, payload={'artist': 'Eric Daniel', 'country': 'Kenya', 'song': 'law develop then', 'url': 'https://www.cooper.com/', 'year': '2005'}, vector=None),\n",
       " ScoredPoint(id=499, version=1, score=0.096053146, payload={'artist': 'Robert Fowler', 'country': 'Kenya', 'song': 'financial allow trial', 'url': 'https://www.nelson.com/', 'year': '2009'}, vector=None),\n",
       " ScoredPoint(id=6, version=1, score=0.052279048, payload={'artist': 'Kathleen King', 'country': 'Kenya', 'song': 'marriage drop night', 'url': 'http://potter.org/', 'year': '2012'}, vector=None),\n",
       " ScoredPoint(id=769, version=1, score=0.036620304, payload={'artist': 'Deborah Ayala', 'country': 'Kenya', 'song': 'soon partner strategy', 'url': 'https://www.miranda.com/', 'year': '1989'}, vector=None)]"
      ]
     },
     "execution_count": 49,
     "metadata": {},
     "output_type": "execute_result"
    }
   ],
   "source": [
    "# Recommendation\n",
    "\n",
    "client.recommend(\n",
    "    collection_name = my_collection,\n",
    "    positive=[17],\n",
    "    negative=[13, 56, 854],\n",
    "    query_filter = models.Filter(\n",
    "        must=[\n",
    "            models.FieldCondition(\n",
    "                key=\"country\",\n",
    "                match=models.MatchValue(value=\"Kenya\")\n",
    "            )\n",
    "        ]\n",
    "    ),\n",
    "    limit = 5\n",
    ")"
   ]
  }
 ],
 "metadata": {
  "kernelspec": {
   "display_name": "qdrant-venv",
   "language": "python",
   "name": "python3"
  },
  "language_info": {
   "codemirror_mode": {
    "name": "ipython",
    "version": 3
   },
   "file_extension": ".py",
   "mimetype": "text/x-python",
   "name": "python",
   "nbconvert_exporter": "python",
   "pygments_lexer": "ipython3",
   "version": "3.12.0"
  }
 },
 "nbformat": 4,
 "nbformat_minor": 2
}
